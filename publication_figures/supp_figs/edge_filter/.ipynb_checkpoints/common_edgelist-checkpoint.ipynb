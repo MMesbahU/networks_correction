{
 "cells": [
  {
   "cell_type": "code",
   "execution_count": 18,
   "metadata": {
    "collapsed": true
   },
   "outputs": [],
   "source": [
    "from collections import Counter"
   ]
  },
  {
   "cell_type": "code",
   "execution_count": 19,
   "metadata": {
    "collapsed": false
   },
   "outputs": [
    {
     "data": {
      "text/plain": [
       "<function close>"
      ]
     },
     "execution_count": 19,
     "metadata": {},
     "output_type": "execute_result"
    }
   ],
   "source": [
    "# initialize edgelist\n",
    "edgelist = []\n",
    "\n",
    "# read kegg\n",
    "with open(\"kegg.txt\", 'r') as f:\n",
    "    next(f)\n",
    "    for eachline in f:\n",
    "        edgelist.append('_'.join(eachline.strip('\\n').split(' ')[1::]))\n",
    "#         break        \n",
    "f.close"
   ]
  },
  {
   "cell_type": "code",
   "execution_count": 20,
   "metadata": {
    "collapsed": false
   },
   "outputs": [
    {
     "data": {
      "text/plain": [
       "<function close>"
      ]
     },
     "execution_count": 20,
     "metadata": {},
     "output_type": "execute_result"
    }
   ],
   "source": [
    "# read biocarta\n",
    "with open(\"biocarta.txt\", 'r') as f:\n",
    "    next(f)\n",
    "    for eachline in f:\n",
    "        edgelist.append('_'.join(eachline.strip('\\n').split(' ')[1::]))\n",
    "#         break        \n",
    "f.close"
   ]
  },
  {
   "cell_type": "code",
   "execution_count": 21,
   "metadata": {
    "collapsed": false
   },
   "outputs": [
    {
     "data": {
      "text/plain": [
       "<function close>"
      ]
     },
     "execution_count": 21,
     "metadata": {},
     "output_type": "execute_result"
    }
   ],
   "source": [
    "#read pathway interaction database\n",
    "with open(\"pid.txt\", 'r') as f:\n",
    "    next(f)\n",
    "    for eachline in f:\n",
    "        edgelist.append('_'.join(eachline.strip('\\n').split(' ')[1::]))\n",
    "#         break        \n",
    "f.close"
   ]
  },
  {
   "cell_type": "code",
   "execution_count": 22,
   "metadata": {
    "collapsed": false
   },
   "outputs": [
    {
     "data": {
      "text/plain": [
       "<function close>"
      ]
     },
     "execution_count": 22,
     "metadata": {},
     "output_type": "execute_result"
    }
   ],
   "source": [
    "# read reactome\n",
    "with open(\"reactome.txt\", 'r') as f:\n",
    "    next(f)\n",
    "    for eachline in f:\n",
    "        edgelist.append('_'.join(eachline.strip('\\n').split(' ')[1::]))\n",
    "#         break        \n",
    "f.close"
   ]
  },
  {
   "cell_type": "code",
   "execution_count": 23,
   "metadata": {
    "collapsed": false
   },
   "outputs": [],
   "source": [
    "# Use a counter to count the number of pathway dbs the edges come from\n",
    "count_edgelist = Counter(edgelist)\n"
   ]
  },
  {
   "cell_type": "code",
   "execution_count": 24,
   "metadata": {
    "collapsed": false
   },
   "outputs": [
    {
     "name": "stdout",
     "output_type": "stream",
     "text": [
      "The total number of edges present in at least one db: 714616\n"
     ]
    }
   ],
   "source": [
    "print \"The total number of edges present in at least one db:\", len(count_edgelist)"
   ]
  },
  {
   "cell_type": "code",
   "execution_count": 25,
   "metadata": {
    "collapsed": false
   },
   "outputs": [
    {
     "name": "stdout",
     "output_type": "stream",
     "text": [
      "Number of edges present in at least two dbs: 49559\n"
     ]
    }
   ],
   "source": [
    "atleast_two = Counter(el for el in count_edgelist.elements() if count_edgelist[el] >= 2)\n",
    "print \"Number of edges present in at least two dbs:\", len(atleast_two)"
   ]
  },
  {
   "cell_type": "code",
   "execution_count": 26,
   "metadata": {
    "collapsed": false
   },
   "outputs": [
    {
     "name": "stdout",
     "output_type": "stream",
     "text": [
      "The number of edges that were lost by the thresholding: 665057\n"
     ]
    }
   ],
   "source": [
    "print \"The number of edges that were lost by the thresholding:\", len(count_edgelist)-len(atleast_two)"
   ]
  },
  {
   "cell_type": "code",
   "execution_count": 27,
   "metadata": {
    "collapsed": false
   },
   "outputs": [],
   "source": [
    "atleast_three = Counter(el for el in count_edgelist.elements() if count_edgelist[el] >= 3)"
   ]
  },
  {
   "cell_type": "code",
   "execution_count": 28,
   "metadata": {
    "collapsed": false
   },
   "outputs": [
    {
     "name": "stdout",
     "output_type": "stream",
     "text": [
      "Number of edges present in at least three dbs: 2055\n"
     ]
    }
   ],
   "source": [
    "print \"Number of edges present in at least three dbs:\", len(atleast_three)"
   ]
  },
  {
   "cell_type": "code",
   "execution_count": 29,
   "metadata": {
    "collapsed": false
   },
   "outputs": [
    {
     "name": "stdout",
     "output_type": "stream",
     "text": [
      "160\n"
     ]
    }
   ],
   "source": [
    "present_all = Counter(el for el in count_edgelist.elements() if count_edgelist[el] == 4 )\n",
    "print len(present_all)"
   ]
  },
  {
   "cell_type": "code",
   "execution_count": 30,
   "metadata": {
    "collapsed": false
   },
   "outputs": [],
   "source": [
    "with open(\"edges_in_twopathways.txt\", \"w\") as f:\n",
    "    for key in atleast_two:\n",
    "        f.write('\\t'.join(key.split('_')) + '\\n')\n",
    "        \n",
    "\n",
    "f.close()"
   ]
  },
  {
   "cell_type": "code",
   "execution_count": null,
   "metadata": {
    "collapsed": true
   },
   "outputs": [],
   "source": []
  }
 ],
 "metadata": {
  "anaconda-cloud": {},
  "kernelspec": {
   "display_name": "Python [conda root]",
   "language": "python",
   "name": "conda-root-py"
  },
  "language_info": {
   "codemirror_mode": {
    "name": "ipython",
    "version": 2
   },
   "file_extension": ".py",
   "mimetype": "text/x-python",
   "name": "python",
   "nbconvert_exporter": "python",
   "pygments_lexer": "ipython2",
   "version": "2.7.12"
  }
 },
 "nbformat": 4,
 "nbformat_minor": 1
}
