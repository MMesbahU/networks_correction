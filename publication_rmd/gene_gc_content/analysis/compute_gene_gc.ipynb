{
 "cells": [
  {
   "cell_type": "code",
   "execution_count": 1,
   "metadata": {
    "collapsed": true
   },
   "outputs": [],
   "source": [
    "# import libraries\n",
    "import re\n",
    "import itertools\n",
    "import collections\n",
    "from collections import OrderedDict\n",
    "import numpy as np\n",
    "\n",
    "\n",
    "# Function to compute gc content\n",
    "def gc_content(dna):\n",
    "     g = dna.count('G')\n",
    "     c = dna.count('C')\n",
    "     gc_frac = (g+c)/float(len(dna))\n",
    "     return gc_frac\n",
    "\n",
    "\n",
    "# Initialize variables\n",
    "seq = OrderedDict()\n",
    "cds_region = []\n",
    "gc_gene = collections.defaultdict(list)\n",
    "gc_full_gene = collections.defaultdict(list)"
   ]
  },
  {
   "cell_type": "markdown",
   "metadata": {},
   "source": [
    "### Gencode v25 annotations"
   ]
  },
  {
   "cell_type": "code",
   "execution_count": 2,
   "metadata": {
    "collapsed": true
   },
   "outputs": [],
   "source": [
    "# Read the fasta sequences with CDS\n",
    "with open('gencode.v25.pc_transcripts.fa') as f:\n",
    "    for line1,line2 in itertools.izip_longest(*[f]*2):\n",
    "        line1 = line1.rstrip('\\n')\n",
    "        line2 = line2.rstrip('\\n')\n",
    "        seq[line1] = line2\n",
    "\n",
    "\n",
    "f.close()"
   ]
  },
  {
   "cell_type": "markdown",
   "metadata": {},
   "source": [
    "#### The total number of transcripts with CDS in Gencode v5 is:"
   ]
  },
  {
   "cell_type": "code",
   "execution_count": 3,
   "metadata": {
    "collapsed": false
   },
   "outputs": [
    {
     "data": {
      "text/plain": [
       "94359"
      ]
     },
     "execution_count": 3,
     "metadata": {},
     "output_type": "execute_result"
    }
   ],
   "source": [
    "len(seq)\n"
   ]
  },
  {
   "cell_type": "markdown",
   "metadata": {},
   "source": [
    "#### Next, we extract the positions of CDS in the fasta sequence. In doing so, we are making sure that the sequence only contains exons and we trim out the UTRs"
   ]
  },
  {
   "cell_type": "code",
   "execution_count": 4,
   "metadata": {
    "collapsed": false
   },
   "outputs": [],
   "source": [
    "# Extract positions for CDS region -- basically trimming out UTRs\n",
    "for i in seq:\n",
    "    cds_region.append(tuple(map(int, re.search(\"\\|CDS:(.+?)\\|\", i).group(1).split('-'))))\n",
    "    "
   ]
  },
  {
   "cell_type": "code",
   "execution_count": 5,
   "metadata": {
    "collapsed": false
   },
   "outputs": [],
   "source": [
    "# Extract CDS region of each transcript\n",
    "gc_cds_seq = {key: value[i-1:j] for (key, value) in seq.items() for i,j in cds_region}\n",
    "\n",
    "# compute GC content for each transcript\n",
    "gc_cds_seq = {key: gc_content(value) for (key, value) in gc_cds_seq.items()}"
   ]
  },
  {
   "cell_type": "code",
   "execution_count": 6,
   "metadata": {
    "collapsed": false
   },
   "outputs": [],
   "source": [
    "# Group transcripts from same gene into one entry\n",
    "for key,value in gc_cds_seq.items():\n",
    "\tgc_gene[key.split('|')[1].strip()].append(value)"
   ]
  },
  {
   "cell_type": "code",
   "execution_count": 7,
   "metadata": {
    "collapsed": false
   },
   "outputs": [
    {
     "name": "stdout",
     "output_type": "stream",
     "text": [
      "20378\n",
      "['ENSG00000116032.5', 'ENSG00000188026.12', 'ENSG00000171174.13', 'ENSG00000167578.17', 'ENSG00000149136.8']\n",
      "[0.5810692375109553, 0.5968448729184925]\n"
     ]
    }
   ],
   "source": [
    "print len(gc_gene)\n",
    "print(gc_gene.keys()[0:5])\n",
    "print gc_gene[\"ENSG00000124334.17\"]"
   ]
  },
  {
   "cell_type": "code",
   "execution_count": 8,
   "metadata": {
    "collapsed": false
   },
   "outputs": [],
   "source": [
    "# summarize GC content in each gene by taking average GC content for each isoform\n",
    "gc_gene_mean = {key: np.mean(value) for (key, value) in gc_gene.items()}"
   ]
  },
  {
   "cell_type": "code",
   "execution_count": 9,
   "metadata": {
    "collapsed": false
   },
   "outputs": [
    {
     "data": {
      "text/plain": [
       "0.58895705521472386"
      ]
     },
     "execution_count": 9,
     "metadata": {},
     "output_type": "execute_result"
    }
   ],
   "source": [
    "gc_gene_mean[\"ENSG00000124334.17\"]"
   ]
  },
  {
   "cell_type": "code",
   "execution_count": 10,
   "metadata": {
    "collapsed": true
   },
   "outputs": [],
   "source": [
    "# write transcript level cds gc_content to file\n",
    "with open('transcript_gc_content.txt', 'w') as f:\n",
    "    for (key,value) in gc_cds_seq.items():\n",
    "        f.write(key + '\\t' + str(value) + '\\n')\n",
    "        \n",
    "f.close()\n",
    "\n",
    "# write gene level gc content to file\n",
    "with open('gene_gc_content.txt', 'w') as f:\n",
    "    for (key,value) in gc_gene_mean.items():\n",
    "        f.write(key + '\\t' + str(value) + '\\n')\n",
    "        \n",
    "f.close()"
   ]
  },
  {
   "cell_type": "markdown",
   "metadata": {
    "collapsed": true
   },
   "source": [
    "#### compute gc content for  cds + utr"
   ]
  },
  {
   "cell_type": "code",
   "execution_count": 11,
   "metadata": {
    "collapsed": true
   },
   "outputs": [],
   "source": [
    "gc_seq = {key: gc_content(value) for (key, value) in seq.items()}"
   ]
  },
  {
   "cell_type": "code",
   "execution_count": 12,
   "metadata": {
    "collapsed": false
   },
   "outputs": [],
   "source": [
    "for key,value in gc_seq.items():\n",
    "\tgc_full_gene[key.split('|')[1].strip()].append(value)"
   ]
  },
  {
   "cell_type": "code",
   "execution_count": 13,
   "metadata": {
    "collapsed": false
   },
   "outputs": [
    {
     "name": "stdout",
     "output_type": "stream",
     "text": [
      "20378\n",
      "['ENSG00000140057.8', 'ENSG00000116032.5', 'ENSG00000188026.12', 'ENSG00000171174.13', 'ENSG00000167578.17']\n",
      "[0.6003086419753086, 0.5984251968503937]\n"
     ]
    }
   ],
   "source": [
    "print len(gc_full_gene)\n",
    "print(gc_full_gene.keys()[0:5])\n",
    "print gc_full_gene[\"ENSG00000124334.17\"]"
   ]
  },
  {
   "cell_type": "code",
   "execution_count": 14,
   "metadata": {
    "collapsed": false
   },
   "outputs": [
    {
     "data": {
      "text/plain": [
       "0.59936691941285125"
      ]
     },
     "execution_count": 14,
     "metadata": {},
     "output_type": "execute_result"
    }
   ],
   "source": [
    "gc_full_gene_mean = {key: np.mean(value) for (key, value) in gc_full_gene.items()}\n",
    "gc_full_gene_mean[\"ENSG00000124334.17\"]"
   ]
  },
  {
   "cell_type": "code",
   "execution_count": 15,
   "metadata": {
    "collapsed": true
   },
   "outputs": [],
   "source": [
    "# write transcript level cds gc_content to file\n",
    "with open('transcript_full_gc_content.txt', 'w') as f:\n",
    "    for (key,value) in gc_seq.items():\n",
    "        f.write(key + '\\t' + str(value) + '\\n')\n",
    "        \n",
    "f.close()\n",
    "\n",
    "# write gene level gc content to file\n",
    "with open('gene_full_gc_content.txt', 'w') as f:\n",
    "    for (key,value) in gc_full_gene_mean.items():\n",
    "        f.write(key + '\\t' + str(value) + '\\n')\n",
    "        \n",
    "f.close()"
   ]
  },
  {
   "cell_type": "code",
   "execution_count": null,
   "metadata": {
    "collapsed": true
   },
   "outputs": [],
   "source": []
  }
 ],
 "metadata": {
  "anaconda-cloud": {},
  "kernelspec": {
   "display_name": "Python [default]",
   "language": "python",
   "name": "python2"
  },
  "language_info": {
   "codemirror_mode": {
    "name": "ipython",
    "version": 2
   },
   "file_extension": ".py",
   "mimetype": "text/x-python",
   "name": "python",
   "nbconvert_exporter": "python",
   "pygments_lexer": "ipython2",
   "version": "2.7.12"
  }
 },
 "nbformat": 4,
 "nbformat_minor": 2
}
